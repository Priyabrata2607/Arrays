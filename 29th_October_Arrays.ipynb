{
 "cells": [
  {
   "cell_type": "markdown",
   "id": "6206dc99",
   "metadata": {},
   "source": [
    "1.Given an array, check if it contains any duplicates or not."
   ]
  },
  {
   "cell_type": "code",
   "execution_count": 1,
   "id": "a16f45be",
   "metadata": {},
   "outputs": [
    {
     "name": "stdout",
     "output_type": "stream",
     "text": [
      "Array contains duplicates: True\n"
     ]
    }
   ],
   "source": [
    "dup=[]\n",
    "def check_dup(arr):\n",
    "    for i in range(len(arr)):\n",
    "        if arr[i] not in dup:\n",
    "            dup.append(arr[i])\n",
    "    if len(dup)==len(arr):\n",
    "        return False\n",
    "    else:\n",
    "        return True\n",
    "\n",
    "arr = [1, 2, 4, 2, 5, 9]\n",
    "res = check_dup(arr)\n",
    "print('Array contains duplicates:',res)"
   ]
  },
  {
   "cell_type": "markdown",
   "id": "3d4974e8",
   "metadata": {},
   "source": [
    "2.Given an array and an integer k, rotate the array to the right by k steps."
   ]
  },
  {
   "cell_type": "code",
   "execution_count": 4,
   "id": "0de43822",
   "metadata": {},
   "outputs": [
    {
     "name": "stdout",
     "output_type": "stream",
     "text": [
      "After rotating the array of 3 steps: [5, 6, 7, 1, 2, 3, 4]\n"
     ]
    }
   ],
   "source": [
    "arr = [1, 2, 3, 4, 5, 6, 7]\n",
    "k=3\n",
    "res=arr[-k:]+arr[:-k]\n",
    "print(f'After rotating the array of {k} steps:',res)"
   ]
  },
  {
   "cell_type": "markdown",
   "id": "3a37ebc3",
   "metadata": {},
   "source": [
    "3.Reverse the given array in-place, means without using any extra data structure."
   ]
  },
  {
   "cell_type": "code",
   "execution_count": 7,
   "id": "a26cc892",
   "metadata": {},
   "outputs": [
    {
     "name": "stdout",
     "output_type": "stream",
     "text": [
      "[12, 9, 7, 5, 4, 2]\n"
     ]
    }
   ],
   "source": [
    "arr = [2, 4, 5, 7, 9, 12]\n",
    "rev=[]\n",
    "for i in arr:\n",
    "    rev.insert(0,i)\n",
    "print(rev)"
   ]
  },
  {
   "cell_type": "markdown",
   "id": "9e0ac0fa",
   "metadata": {},
   "source": [
    "4.Given an array of integers, find the maximum element in an array"
   ]
  },
  {
   "cell_type": "code",
   "execution_count": 9,
   "id": "2562a0af",
   "metadata": {},
   "outputs": [
    {
     "name": "stdout",
     "output_type": "stream",
     "text": [
      "20\n"
     ]
    }
   ],
   "source": [
    "arr = [10, 5, 20, 8, 15]\n",
    "max_element=arr[0]\n",
    "for i in range(len(arr)):\n",
    "    if arr[i]>max_element:\n",
    "        max_element=arr[i]\n",
    "print(max_element)"
   ]
  },
  {
   "cell_type": "markdown",
   "id": "707e542d",
   "metadata": {},
   "source": [
    "5.Given a sorted array, remove the duplicate element without using any extra data structure."
   ]
  },
  {
   "cell_type": "code",
   "execution_count": 11,
   "id": "f936409d",
   "metadata": {},
   "outputs": [
    {
     "name": "stdout",
     "output_type": "stream",
     "text": [
      "[1, 2, 3, 4, 5]\n"
     ]
    }
   ],
   "source": [
    "arr = [1, 1, 2, 2, 2, 3, 3, 4, 4, 4, 5, 5]\n",
    "revised=[]\n",
    "for i in arr:\n",
    "    if i not in revised:\n",
    "        revised.append(i)\n",
    "print(revised)"
   ]
  },
  {
   "cell_type": "code",
   "execution_count": null,
   "id": "d2659a41",
   "metadata": {},
   "outputs": [],
   "source": []
  }
 ],
 "metadata": {
  "kernelspec": {
   "display_name": "Python 3 (ipykernel)",
   "language": "python",
   "name": "python3"
  },
  "language_info": {
   "codemirror_mode": {
    "name": "ipython",
    "version": 3
   },
   "file_extension": ".py",
   "mimetype": "text/x-python",
   "name": "python",
   "nbconvert_exporter": "python",
   "pygments_lexer": "ipython3",
   "version": "3.9.12"
  }
 },
 "nbformat": 4,
 "nbformat_minor": 5
}
